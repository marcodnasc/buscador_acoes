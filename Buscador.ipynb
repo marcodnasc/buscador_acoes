{
 "cells": [
  {
   "cell_type": "code",
   "execution_count": 8,
   "id": "c5446e21",
   "metadata": {},
   "outputs": [
    {
     "name": "stdout",
     "output_type": "stream",
     "text": [
      "Digite o código da ação (ex: PETR4, VALE3): IFMG4\n",
      "Ação não encontrada.\n"
     ]
    }
   ],
   "source": [
    "# Importando bibliotecas\n",
    "from urllib.request import urlopen, Request\n",
    "from bs4 import BeautifulSoup\n",
    "from urllib.parse import urljoin  # Para completar links relativos\n",
    "\n",
    "# Função para criar o mapeamento de códigos de ações para URLs completos\n",
    "def criar_mapeamento_acoes(soup, base_url):\n",
    "    mapeamento = {}\n",
    "    # Encontra todas as linhas da tabela de ações\n",
    "    linhas_tabela = soup.find_all('tr')\n",
    "    \n",
    "    # Itera sobre as linhas para extrair os códigos e links das ações\n",
    "    for linha in linhas_tabela[1:]:  # Ignora o cabeçalho da tabela\n",
    "        colunas = linha.find_all('td')\n",
    "        codigo_acao = colunas[0].text.strip()\n",
    "        link_acao = colunas[0].find('a')['href']\n",
    "        link_completo = urljoin(base_url, link_acao)  # Completando o link relativo\n",
    "        mapeamento[codigo_acao] = link_completo\n",
    "    \n",
    "    return mapeamento\n",
    "\n",
    "# Obtendo o HTML\n",
    "url = \"https://www.fundamentus.com.br/resultado.php\"\n",
    "headers = {\"User-Agent\": \"Mozilla/5.0 (Windows NT 10.0; Win64; x64) AppleWebKit/537.36 (KHTML, like Gecko) Chrome/94.0.4606.61 Safari/537.36\"}\n",
    "\n",
    "req = Request(url, headers=headers)\n",
    "response = urlopen(req)\n",
    "html = response.read()\n",
    "soup = BeautifulSoup(html, 'html.parser')\n",
    "\n",
    "# Criar o mapeamento de códigos de ações para URLs completos\n",
    "mapeamento_acoes = criar_mapeamento_acoes(soup, url)\n",
    "\n",
    "# Solicita ao usuário o código da ação desejada\n",
    "codigo_acao = input(\"Digite o código da ação (ex: PETR4, VALE3): \")\n",
    "\n",
    "# Verifica se o código da ação está no mapeamento\n",
    "if codigo_acao in mapeamento_acoes:\n",
    "    print(\"Link da ação '{}': {}\".format(codigo_acao, mapeamento_acoes[codigo_acao]))\n",
    "else:\n",
    "    print(\"Ação não encontrada.\")\n"
   ]
  },
  {
   "cell_type": "code",
   "execution_count": null,
   "id": "b1f08862",
   "metadata": {},
   "outputs": [],
   "source": []
  }
 ],
 "metadata": {
  "kernelspec": {
   "display_name": "Python 3 (ipykernel)",
   "language": "python",
   "name": "python3"
  },
  "language_info": {
   "codemirror_mode": {
    "name": "ipython",
    "version": 3
   },
   "file_extension": ".py",
   "mimetype": "text/x-python",
   "name": "python",
   "nbconvert_exporter": "python",
   "pygments_lexer": "ipython3",
   "version": "3.10.9"
  }
 },
 "nbformat": 4,
 "nbformat_minor": 5
}
